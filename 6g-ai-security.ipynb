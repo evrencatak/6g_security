{
 "cells": [
  {
   "cell_type": "markdown",
   "id": "oriental-defensive",
   "metadata": {},
   "source": [
    "# 6G and Artificial Intelligence With Security Problems\n",
    "## 6G solutions with Adversarial Machine Learning Attacks: Millimeter Wave Beam Prediction Use-Case\n",
    "\n",
    "### 1. Introduction to 6G\n",
    "6G is the next generation for the communication systems. In recent years, machine learning algorithms have been applied widely in various fields such as health, transportation, and the autonomous car. The predictive algorithms will be used in 6G problems. With the rapid developments of deep learning techniques, it is critical to take the security concern into account to apply the algorithms. While machine learning offers significant advantages for 6G, AI models' security is ignored. Since it has many applications in the real world, security is a vital part of the algorithms. This post has proposed a mitigation method for adversarial attacks against 6G machine learning models with adversarial learning. The main idea behind adversarial attacks against machine learning models is to produce faulty results by manipulating trained deep learning models for 6G applications. \n",
    "\n",
    "Up to 4G, time-frequency domain technology has been explored to increase overall system capacity. The recent developments in 5G and beyond technologies support emerging applications such as smart homes, vehicular networks, augmented reality (AR), virtual reality (VR) with unprecedented rates enabled by recent advances in massive multiple-input multiple-output (MIMO), mmWave communications, network slicing, small cells, and Internet of things (IoT). These complex structures of 5G and beyond technologies  can be captured by using **data-driven approach** machine learning (ML) algorithm. The strong learning, reasoning, intelligent recognition abilities of ML allow the network structure to train and adapt itself to support diverse demands of the systems without human intervention.\n",
    "\n",
    "On the other hand, 6G is vulnerable for the adversarial machine learning attacks. Figure shows an attack scenario. The attacker gets an legitimate input, $\\mathbf{x}$, creates a noise vector with an $\\epsilon$ budget $\\eta = \\epsilon \\cdot sign(\\nabla_x \\ell(\\mathbf{\\theta},\\mathbf{x},y))$, sums the input instance and the craftily designed noise to create adversarial input $\\mathbf{x}^{adv} = \\mathbf{x} + \\eta$.\n",
    "\n",
    "![Adversarial Machine Learning Attack in 6G](blacksea_paper/img/adv-ml.png)\n",
    "\n",
    "### 2. Adversarial Machine Learning\n",
    "Adversarial machine learning is an attack technique that attempts to fool neural network models by supplying craftily manipulated input with a small difference. The obvious intention is to produce a failure in a neural network.\n",
    "\n",
    "There are many attacking methods for deep learning models, and FGSM is the most straightforward and powerful attack type. FGSM works by utilizing the gradients of the neural network to create an adversarial example to evade the model. For an input instance $\\mathbf{x}$.\n",
    "\n",
    "\\begin{equation}\n",
    "\t\\mathbf{x}^{adv} = \\mathbf{x} + \\epsilon \\cdot sign(\\nabla_x \\ell(\\mathbf{\\theta},\\mathbf{x},y))\n",
    "\\end{equation}\n",
    "\n",
    "![FGSM attack](blacksea_paper/img/fgsm_detail.png)\n",
    "\n",
    "### 3. Solution: Adversarial Training\n",
    "\n",
    "Adversarial training is a widely recommended defense that implies generating adversarial instances using the gradient of the victim classifier, and then re-training the model with the adversarial instances and their respective labels. This technique has demonstrated to be efficient in defending models from adversarial attacks. \n",
    "\n",
    "Let us first think a common classification problem with a training instances $X \\in \\mathbb{R}^{m \\times n}$ of dimension $d$, a label space $Y$ We assume the classifier $h_\\theta$ has been trained to minimize a loss function $\\ell$as follows:\n",
    "\n",
    "\\begin{equation}\n",
    "\t\\label{eq:cost-func}\n",
    "\t\\underset{\\theta}{min}\\frac{1}{m} \\sum_{i=1}^{m} \\ell(h_\\theta(\\mathbf{x}_i,y_i))\n",
    "\\end{equation}\n",
    "\n",
    "The following figure shows the diagram of **RF beamforming codeword adversarial training**.\n",
    "\n",
    "![FGSM attack](blacksea_paper/img/deepmimo_adv_learning.png)\n",
    "\n",
    "### 4. Let’s coding\n",
    "\n",
    "We import the usual standard libraries to build a deep learning model to predict RF beamforming codeword."
   ]
  },
  {
   "cell_type": "code",
   "execution_count": 1,
   "id": "hearing-benefit",
   "metadata": {},
   "outputs": [],
   "source": [
    "import tensorflow as tf\n",
    "from scipy.io import loadmat, savemat\n",
    "import numpy as np\n",
    "from keras.models import Sequential\n",
    "from keras.layers import Dense\n",
    "from tqdm import tqdm\n",
    "from keras.callbacks import ModelCheckpoint\n",
    "import pickle \n",
    "from sklearn.metrics import mean_squared_error\n",
    "import matplotlib.pyplot as plt\n",
    "import pandas as pd"
   ]
  },
  {
   "cell_type": "markdown",
   "id": "direct-majority",
   "metadata": {},
   "source": [
    "In this work, we will use publicly avaliable [DeepMIMO dataset](https://www.deepmimo.net) to attack RF beam forming prediction model. We will use FGSM attack, and **Mean Squared Error** loss function for the input manipulation. Our FGSM attack implementation is here."
   ]
  },
  {
   "cell_type": "code",
   "execution_count": 2,
   "id": "postal-olive",
   "metadata": {},
   "outputs": [],
   "source": [
    "loss_object = tf.keras.losses.MeanSquaredError()\n",
    "\n",
    "def fgsm(model, input_instance, label, n_BS,n_beams, epsilon =0.01):\n",
    "    tensor_input_instance = tf.convert_to_tensor(input_instance, dtype=tf.float32)\n",
    "    adv_x = input_instance\n",
    "    for idx in range(0, n_BS*n_beams-2, n_beams):\n",
    "        with tf.GradientTape() as tape:\n",
    "            tmp_label = label[:, idx:idx + n_beams]\n",
    "            tape.watch(tensor_input_instance)\n",
    "            prediction = model(tensor_input_instance)\n",
    "            loss = loss_object(tmp_label, prediction)\n",
    "            gradient = tape.gradient(loss, tensor_input_instance)\n",
    "            signed_grad = tf.sign(gradient)\n",
    "            adv_x = adv_x + eps * signed_grad\n",
    "    return adv_x"
   ]
  },
  {
   "cell_type": "markdown",
   "id": "working-cruise",
   "metadata": {},
   "source": [
    "## The parameters in our scenario\n",
    "\n",
    "| Parameter      | Value |\n",
    "| ----------- | ----------- |\n",
    "| Num of BS      | 4       |\n",
    "| Train Test Split   | 0.8        |\n",
    "| Number of beams | 512 |\n",
    "| Activation Function | ReLU|\n",
    "| Loss| Mean Squared Error|\n",
    "| Optimizer| Rmsprop|"
   ]
  },
  {
   "cell_type": "code",
   "execution_count": 3,
   "id": "outstanding-appeal",
   "metadata": {},
   "outputs": [],
   "source": [
    "# Reading input and output sets generated from MATLAB\n",
    "# with DeepMIMO generator http://www.deepmimo.net\n",
    "In_set_file=loadmat('DLCB_dataset/DLCB_input.mat')\n",
    "Out_set_file=loadmat('DLCB_dataset/DLCB_output.mat')\n",
    "\n",
    "In_set=In_set_file['DL_input']\n",
    "Out_set=Out_set_file['DL_output']\n",
    "\n",
    "# Parameter initialization\n",
    "num_user_tot=In_set.shape[0]\n",
    "\n",
    "DL_size_ratio = .8\n",
    "count=0\n",
    "num_tot_TX=4\n",
    "num_beams=512"
   ]
  },
  {
   "cell_type": "markdown",
   "id": "quick-ceremony",
   "metadata": {},
   "source": [
    "# The train procedure"
   ]
  },
  {
   "cell_type": "code",
   "execution_count": 4,
   "id": "literary-packet",
   "metadata": {},
   "outputs": [],
   "source": [
    "def train(In_train, Out_train, In_test, Out_test,\n",
    "          nb_epoch, batch_size,dr,\n",
    "          num_hidden_layers, nodes_per_layer,\n",
    "          loss_fn,n_BS,n_beams):\n",
    "    \n",
    "    in_shp = list(In_train.shape[1:])\n",
    "\n",
    "    AP_models = []\n",
    "    for idx in range(0, n_BS*n_beams-2, n_beams):\n",
    "        idx_str = str(idx / n_beams + 1)\n",
    "        act_func = 'relu'\n",
    "        model = Sequential()\n",
    "        model.add(Dense(100, input_dim=in_shp[0], activation=act_func))\n",
    "        model.add(Dense(100, activation=act_func))\n",
    "        model.add(Dense(100, activation=act_func))\n",
    "        model.add(Dense(100, activation=act_func))\n",
    "        model.add(Dense(n_beams, activation=act_func))\n",
    "        model.compile(loss=loss_fn, optimizer='rmsprop', metrics=['mean_squared_error'])\n",
    "        \n",
    "        history = model.fit(In_train,\n",
    "                            Out_train[:, idx:idx + n_beams],\n",
    "                            batch_size=batch_size,\n",
    "                            epochs=nb_epoch,\n",
    "                            verbose=0,\n",
    "                            validation_data=(In_test, Out_test[:,idx:idx + n_beams]))\n",
    "        \n",
    "        filehandler = open('history.pkl', 'wb') \n",
    "        pickle.dump(history.history, filehandler)\n",
    "        filehandler.close()\n",
    "        \n",
    "        AP_models.append(model)\n",
    "    return AP_models"
   ]
  },
  {
   "cell_type": "markdown",
   "id": "passive-possession",
   "metadata": {},
   "source": [
    "# Training process (Normal Behaviour)\n",
    "\n",
    "Here we will train the RF beamforming codeword prediction model with out any attacker. "
   ]
  },
  {
   "cell_type": "code",
   "execution_count": 5,
   "id": "artistic-coral",
   "metadata": {},
   "outputs": [
    {
     "name": "stdout",
     "output_type": "stream",
     "text": [
      "mse: 0.00030647155448710575\n"
     ]
    }
   ],
   "source": [
    "count=count+1\n",
    "DL_size=int(num_user_tot*DL_size_ratio)\n",
    "\n",
    "np.random.seed(2016)\n",
    "n_examples = DL_size\n",
    "num_train  = int(DL_size * 0.8)\n",
    "num_test   = int(num_user_tot*.2)\n",
    "\n",
    "train_index = np.random.choice(range(0,num_user_tot), size=num_train, replace=False)\n",
    "rem_index = set(range(0,num_user_tot))-set(train_index)\n",
    "test_index= list(set(np.random.choice(list(rem_index), size=num_test, replace=False)))\n",
    "\n",
    "In_train = In_set[train_index]\n",
    "In_test =  In_set[test_index] \n",
    "\n",
    "Out_train = Out_set[train_index]\n",
    "Out_test = Out_set[test_index]\n",
    "\n",
    "#In_train, In_test, Out_train, Out_test =  train_test_split(In_set, Out_set, test_size=0.33)\n",
    "\n",
    "# Learning model parameters\n",
    "nb_epoch = 10    \n",
    "batch_size = 100  \n",
    "dr = 0.05                  # dropout rate  \n",
    "num_hidden_layers=4\n",
    "nodes_per_layer=In_train.shape[1]\n",
    "loss_fn='mean_squared_error'\n",
    "\n",
    "eps = 2.0 * 16.0 / 255.0\n",
    "\n",
    "\n",
    "# Model training\n",
    "AP_models = train(In_train, Out_train, In_test, Out_test,\n",
    "                                      nb_epoch, batch_size,dr,\n",
    "                                      num_hidden_layers, nodes_per_layer,\n",
    "                                      loss_fn,num_tot_TX,num_beams)\n",
    "# Model running/testing\n",
    "DL_Result={}\n",
    "mse_list = []\n",
    "for id in range(0,num_tot_TX,1): \n",
    "    beams_predicted=AP_models[id].predict( In_test, batch_size=10, verbose=0)\n",
    "\n",
    "    DL_Result['TX'+str(id+1)+'Pred_Beams']=beams_predicted\n",
    "    DL_Result['TX'+str(id+1)+'Opt_Beams']=Out_test[:,id*num_beams:(id+1)*num_beams]\n",
    "\n",
    "    mse = mean_squared_error(Out_test[:,id*num_beams:(id+1)*num_beams],beams_predicted)\n",
    "    mse_list.append(mse)\n",
    "print('mse:',np.mean(mse_list))\n",
    "\n",
    "DL_Result['user_index']=test_index"
   ]
  },
  {
   "cell_type": "markdown",
   "id": "peaceful-behalf",
   "metadata": {},
   "source": [
    "# Attack the RF Beamforming Codeword Prediction Model\n",
    "\n",
    "The RF beamforming prediction model's performance is quite good which is 0.00039. Now, we will attack the model with FGSM."
   ]
  },
  {
   "cell_type": "code",
   "execution_count": 6,
   "id": "antique-coverage",
   "metadata": {},
   "outputs": [
    {
     "name": "stdout",
     "output_type": "stream",
     "text": [
      "mse: 0.0151878763143215\n"
     ]
    }
   ],
   "source": [
    "import warnings\n",
    "warnings.filterwarnings('ignore')\n",
    "# Model running/testing\n",
    "DL_Result={}\n",
    "mse_list = []\n",
    "for id in range(0,num_tot_TX,1): \n",
    "    # !!!!! Attack generation !!!!\n",
    "    In_test_adv = fgsm(AP_models[id], In_test,Out_test,num_tot_TX,num_beams,eps)\n",
    "    beams_predicted=AP_models[id].predict( In_test_adv, batch_size=10, verbose=0)\n",
    "\n",
    "    DL_Result['TX'+str(id+1)+'Pred_Beams']=beams_predicted\n",
    "    DL_Result['TX'+str(id+1)+'Opt_Beams']=Out_test[:,id*num_beams:(id+1)*num_beams]\n",
    "\n",
    "    mse = mean_squared_error(Out_test[:,id*num_beams:(id+1)*num_beams],beams_predicted)\n",
    "    mse_list.append(mse)\n",
    "print('mse:',np.mean(mse_list))"
   ]
  },
  {
   "cell_type": "markdown",
   "id": "dense-barbados",
   "metadata": {},
   "source": [
    "## Adversarial Training\n",
    "The attacked model's performance (i.e. $mse=0.01532$) is worst than the normal performance (i.e. $mse=0.00039$). Let's train the normal model with adversarial training."
   ]
  },
  {
   "cell_type": "code",
   "execution_count": 7,
   "id": "adolescent-chess",
   "metadata": {},
   "outputs": [],
   "source": [
    "# Model training function\n",
    "def adv_train(In_train, Out_train, In_test, Out_test,\n",
    "          nb_epoch, batch_size,dr,\n",
    "          num_hidden_layers, nodes_per_layer,\n",
    "          loss_fn,n_BS,n_beams, eps):\n",
    "    \n",
    "    in_shp = list(In_train.shape[1:])\n",
    "\n",
    "    AP_models = []\n",
    "    mcp_save = ModelCheckpoint('model.hdf5', save_best_only=True, verbose=0, \n",
    "                                   monitor='val_mean_squared_error', mode='min')\n",
    "    \n",
    "    for idx in range(0, n_BS*n_beams-2, n_beams):\n",
    "        idx_str = str(idx / n_beams + 1)\n",
    "        act_func = 'relu'\n",
    "        model = Sequential()\n",
    "        model.add(Dense(100, input_dim=in_shp[0], activation=act_func))\n",
    "        model.add(Dense(100, activation=act_func))\n",
    "        model.add(Dense(100, activation=act_func))\n",
    "        model.add(Dense(100, activation=act_func))\n",
    "        model.add(Dense(n_beams, activation=act_func))\n",
    "        model.compile(loss=loss_fn, optimizer='rmsprop', metrics=['mean_squared_error'])\n",
    "        \n",
    "        history = model.fit(In_train,\n",
    "                            Out_train[:, idx:idx + n_beams],\n",
    "                            batch_size=batch_size,\n",
    "                            epochs=nb_epoch,\n",
    "                            verbose=0,\n",
    "                            validation_data=(In_test, Out_test[:,idx:idx + n_beams]))\n",
    "        \n",
    "        callbacks = [mcp_save]\n",
    "        for _ in range(10):\n",
    "            In_train_adv = fgsm(model, In_train,Out_train, n_BS, n_beams)\n",
    "            In_train_adv = np.concatenate((In_train, In_train_adv), axis=0)\n",
    "            \n",
    "            Out_train_adv = np.concatenate((Out_train, Out_train), axis=0)\n",
    "            \n",
    "            history = model.fit(In_train_adv,\n",
    "                                Out_train_adv[:, idx:idx + n_beams],\n",
    "                                batch_size=batch_size,\n",
    "                                epochs=nb_epoch*3,\n",
    "                                verbose=0,\n",
    "                                callbacks=callbacks,\n",
    "                                validation_data=(In_test, Out_test[:,idx:idx + n_beams]))\n",
    "            model.load_weights('model.hdf5')\n",
    "        \n",
    "        AP_models.append(model)\n",
    "    return AP_models"
   ]
  },
  {
   "cell_type": "code",
   "execution_count": 8,
   "id": "conventional-mumbai",
   "metadata": {},
   "outputs": [],
   "source": [
    "AP_models = adv_train(In_train, Out_train, In_test, Out_test,\n",
    "                      nb_epoch, batch_size,dr,\n",
    "                      num_hidden_layers, nodes_per_layer,\n",
    "                      loss_fn,num_tot_TX,num_beams,eps)"
   ]
  },
  {
   "cell_type": "code",
   "execution_count": 9,
   "id": "efficient-lafayette",
   "metadata": {},
   "outputs": [
    {
     "name": "stdout",
     "output_type": "stream",
     "text": [
      "mse: 0.0006801871943259285\n"
     ]
    }
   ],
   "source": [
    "# Model running/testing\n",
    "DL_Result={}\n",
    "mse_list = []\n",
    "for id in range(0,num_tot_TX,1): \n",
    "    # !!!!! Attack generation !!!!\n",
    "    In_test_adv = fgsm(AP_models[id], In_test,Out_test,num_tot_TX,num_beams,eps)\n",
    "    beams_predicted=AP_models[id].predict( In_test_adv, batch_size=10, verbose=0)\n",
    "\n",
    "    DL_Result['TX'+str(id+1)+'Pred_Beams']=beams_predicted\n",
    "    DL_Result['TX'+str(id+1)+'Opt_Beams']=Out_test[:,id*num_beams:(id+1)*num_beams]\n",
    "\n",
    "    mse = mean_squared_error(Out_test[:,id*num_beams:(id+1)*num_beams],beams_predicted)\n",
    "    mse_list.append(mse)\n",
    "print('mse:',np.mean(mse_list))"
   ]
  },
  {
   "cell_type": "markdown",
   "id": "banned-afghanistan",
   "metadata": {},
   "source": [
    "### All results\n",
    "Now the RF beamforming codeword prediction model's performance under attack is better than the undefended model performance."
   ]
  },
  {
   "cell_type": "code",
   "execution_count": 10,
   "id": "respective-boring",
   "metadata": {},
   "outputs": [
    {
     "data": {
      "image/png": "[encoded data removed]",
      "text/plain": [
       "<Figure size 432x288 with 1 Axes>"
      ]
     },
     "metadata": {
      "needs_background": "light"
     },
     "output_type": "display_data"
    }
   ],
   "source": [
    "vals = [0.00039551136731949614,0.01532598592375935,0.0007175213740754419]\n",
    "df = pd.DataFrame({'Scenario':['SC1: Normal','SC2: Attacked','SC3: Defended'],'vals':vals})\n",
    "df.plot.bar(x='Scenario',y='vals', rot=0,color=['green', 'red','blue'], \n",
    "            edgecolor='black',legend='',linewidth=2)\n",
    "plt.xlabel('')\n",
    "ax = plt.gca()\n",
    "for i, v in enumerate(vals):\n",
    "    ax.text(-0.17+i*0.97, 0.0002 + v, str(np.round(vals[i],5)), color='blue')\n",
    "plt.ylabel('MSE')\n",
    "plt.grid(True, which=\"both\", ls=\"--\")\n",
    "plt.show()"
   ]
  },
  {
   "cell_type": "code",
   "execution_count": null,
   "id": "necessary-victorian",
   "metadata": {},
   "outputs": [],
   "source": []
  }
 ],
 "metadata": {
  "kernelspec": {
   "display_name": "Python 3",
   "language": "python",
   "name": "python3"
  },
  "language_info": {
   "codemirror_mode": {
    "name": "ipython",
    "version": 3
   },
   "file_extension": ".py",
   "mimetype": "text/x-python",
   "name": "python",
   "nbconvert_exporter": "python",
   "pygments_lexer": "ipython3",
   "version": "3.8.3"
  }
 },
 "nbformat": 4,
 "nbformat_minor": 5
}
